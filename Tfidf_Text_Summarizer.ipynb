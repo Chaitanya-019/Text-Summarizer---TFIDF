{
  "nbformat": 4,
  "nbformat_minor": 0,
  "metadata": {
    "colab": {
      "provenance": []
    },
    "kernelspec": {
      "name": "python3",
      "display_name": "Python 3"
    },
    "language_info": {
      "name": "python"
    }
  },
  "cells": [
    {
      "cell_type": "code",
      "source": [
        "import nltk\n",
        "nltk.download(\"punkt\")\n",
        "nltk.download(\"stopwords\")"
      ],
      "metadata": {
        "colab": {
          "base_uri": "https://localhost:8080/"
        },
        "id": "p4l1VrGO22U4",
        "outputId": "427fd66b-1549-42e1-a84f-e7ddc1a941b1"
      },
      "execution_count": 2,
      "outputs": [
        {
          "output_type": "stream",
          "name": "stderr",
          "text": [
            "[nltk_data] Downloading package punkt to /root/nltk_data...\n",
            "[nltk_data]   Unzipping tokenizers/punkt.zip.\n",
            "[nltk_data] Downloading package stopwords to /root/nltk_data...\n",
            "[nltk_data]   Unzipping corpora/stopwords.zip.\n"
          ]
        },
        {
          "output_type": "execute_result",
          "data": {
            "text/plain": [
              "True"
            ]
          },
          "metadata": {},
          "execution_count": 2
        }
      ]
    },
    {
      "cell_type": "code",
      "execution_count": 3,
      "metadata": {
        "id": "of3TE7dC1D8E"
      },
      "outputs": [],
      "source": [
        "import pandas\n",
        "import math\n",
        "from nltk import sent_tokenize, word_tokenize, PorterStemmer\n",
        "from nltk.corpus import stopwords   "
      ]
    },
    {
      "cell_type": "code",
      "source": [
        "df = pandas.read_csv(\"news.csv\")"
      ],
      "metadata": {
        "id": "2_gAPN8V1cfc"
      },
      "execution_count": 4,
      "outputs": []
    },
    {
      "cell_type": "code",
      "source": [
        "df.head()"
      ],
      "metadata": {
        "colab": {
          "base_uri": "https://localhost:8080/",
          "height": 206
        },
        "id": "VxkbzBQw1hGM",
        "outputId": "f5da5b7e-c768-449d-9c79-4bbc28c92389"
      },
      "execution_count": 5,
      "outputs": [
        {
          "output_type": "execute_result",
          "data": {
            "text/plain": [
              "                                               title  \\\n",
              "0  BTS: RM is reminded of Bon Voyage as he travel...   \n",
              "1  RM recalls wondering if he 'made right decisio...   \n",
              "2  BTS: J-Hope and RM go bonkers at Billie Eilish...   \n",
              "3  BTS: J-Hope proudly states he raised Jungkook,...   \n",
              "4  BTS: Jin aka Kim Seokjin takes us through the ...   \n",
              "\n",
              "                                             content          published_at  \\\n",
              "0  After reaching his hotel in the city, RM revea...  2022-07-30T07:00:00Z   \n",
              "1  RM aka Kim Namjoon was the first member to joi...  2022-12-22T15:57:55Z   \n",
              "2  Billie Eilish's concert was held in Seoul, Sou...  2022-08-16T07:00:00Z   \n",
              "3  BTS ARMY y'all would be missing the members a ...  2022-12-18T13:08:40Z   \n",
              "4  BTS member Kim Seokjin aka Jin has the capacit...  2022-11-21T08:00:00Z   \n",
              "\n",
              "   source  topic  \n",
              "0       2     13  \n",
              "1       2     13  \n",
              "2       1      7  \n",
              "3       1      7  \n",
              "4       1      8  "
            ],
            "text/html": [
              "\n",
              "  <div id=\"df-f17dae03-64ad-4af2-8fcc-c9aeda9fcc66\">\n",
              "    <div class=\"colab-df-container\">\n",
              "      <div>\n",
              "<style scoped>\n",
              "    .dataframe tbody tr th:only-of-type {\n",
              "        vertical-align: middle;\n",
              "    }\n",
              "\n",
              "    .dataframe tbody tr th {\n",
              "        vertical-align: top;\n",
              "    }\n",
              "\n",
              "    .dataframe thead th {\n",
              "        text-align: right;\n",
              "    }\n",
              "</style>\n",
              "<table border=\"1\" class=\"dataframe\">\n",
              "  <thead>\n",
              "    <tr style=\"text-align: right;\">\n",
              "      <th></th>\n",
              "      <th>title</th>\n",
              "      <th>content</th>\n",
              "      <th>published_at</th>\n",
              "      <th>source</th>\n",
              "      <th>topic</th>\n",
              "    </tr>\n",
              "  </thead>\n",
              "  <tbody>\n",
              "    <tr>\n",
              "      <th>0</th>\n",
              "      <td>BTS: RM is reminded of Bon Voyage as he travel...</td>\n",
              "      <td>After reaching his hotel in the city, RM revea...</td>\n",
              "      <td>2022-07-30T07:00:00Z</td>\n",
              "      <td>2</td>\n",
              "      <td>13</td>\n",
              "    </tr>\n",
              "    <tr>\n",
              "      <th>1</th>\n",
              "      <td>RM recalls wondering if he 'made right decisio...</td>\n",
              "      <td>RM aka Kim Namjoon was the first member to joi...</td>\n",
              "      <td>2022-12-22T15:57:55Z</td>\n",
              "      <td>2</td>\n",
              "      <td>13</td>\n",
              "    </tr>\n",
              "    <tr>\n",
              "      <th>2</th>\n",
              "      <td>BTS: J-Hope and RM go bonkers at Billie Eilish...</td>\n",
              "      <td>Billie Eilish's concert was held in Seoul, Sou...</td>\n",
              "      <td>2022-08-16T07:00:00Z</td>\n",
              "      <td>1</td>\n",
              "      <td>7</td>\n",
              "    </tr>\n",
              "    <tr>\n",
              "      <th>3</th>\n",
              "      <td>BTS: J-Hope proudly states he raised Jungkook,...</td>\n",
              "      <td>BTS ARMY y'all would be missing the members a ...</td>\n",
              "      <td>2022-12-18T13:08:40Z</td>\n",
              "      <td>1</td>\n",
              "      <td>7</td>\n",
              "    </tr>\n",
              "    <tr>\n",
              "      <th>4</th>\n",
              "      <td>BTS: Jin aka Kim Seokjin takes us through the ...</td>\n",
              "      <td>BTS member Kim Seokjin aka Jin has the capacit...</td>\n",
              "      <td>2022-11-21T08:00:00Z</td>\n",
              "      <td>1</td>\n",
              "      <td>8</td>\n",
              "    </tr>\n",
              "  </tbody>\n",
              "</table>\n",
              "</div>\n",
              "      <button class=\"colab-df-convert\" onclick=\"convertToInteractive('df-f17dae03-64ad-4af2-8fcc-c9aeda9fcc66')\"\n",
              "              title=\"Convert this dataframe to an interactive table.\"\n",
              "              style=\"display:none;\">\n",
              "        \n",
              "  <svg xmlns=\"http://www.w3.org/2000/svg\" height=\"24px\"viewBox=\"0 0 24 24\"\n",
              "       width=\"24px\">\n",
              "    <path d=\"M0 0h24v24H0V0z\" fill=\"none\"/>\n",
              "    <path d=\"M18.56 5.44l.94 2.06.94-2.06 2.06-.94-2.06-.94-.94-2.06-.94 2.06-2.06.94zm-11 1L8.5 8.5l.94-2.06 2.06-.94-2.06-.94L8.5 2.5l-.94 2.06-2.06.94zm10 10l.94 2.06.94-2.06 2.06-.94-2.06-.94-.94-2.06-.94 2.06-2.06.94z\"/><path d=\"M17.41 7.96l-1.37-1.37c-.4-.4-.92-.59-1.43-.59-.52 0-1.04.2-1.43.59L10.3 9.45l-7.72 7.72c-.78.78-.78 2.05 0 2.83L4 21.41c.39.39.9.59 1.41.59.51 0 1.02-.2 1.41-.59l7.78-7.78 2.81-2.81c.8-.78.8-2.07 0-2.86zM5.41 20L4 18.59l7.72-7.72 1.47 1.35L5.41 20z\"/>\n",
              "  </svg>\n",
              "      </button>\n",
              "      \n",
              "  <style>\n",
              "    .colab-df-container {\n",
              "      display:flex;\n",
              "      flex-wrap:wrap;\n",
              "      gap: 12px;\n",
              "    }\n",
              "\n",
              "    .colab-df-convert {\n",
              "      background-color: #E8F0FE;\n",
              "      border: none;\n",
              "      border-radius: 50%;\n",
              "      cursor: pointer;\n",
              "      display: none;\n",
              "      fill: #1967D2;\n",
              "      height: 32px;\n",
              "      padding: 0 0 0 0;\n",
              "      width: 32px;\n",
              "    }\n",
              "\n",
              "    .colab-df-convert:hover {\n",
              "      background-color: #E2EBFA;\n",
              "      box-shadow: 0px 1px 2px rgba(60, 64, 67, 0.3), 0px 1px 3px 1px rgba(60, 64, 67, 0.15);\n",
              "      fill: #174EA6;\n",
              "    }\n",
              "\n",
              "    [theme=dark] .colab-df-convert {\n",
              "      background-color: #3B4455;\n",
              "      fill: #D2E3FC;\n",
              "    }\n",
              "\n",
              "    [theme=dark] .colab-df-convert:hover {\n",
              "      background-color: #434B5C;\n",
              "      box-shadow: 0px 1px 3px 1px rgba(0, 0, 0, 0.15);\n",
              "      filter: drop-shadow(0px 1px 2px rgba(0, 0, 0, 0.3));\n",
              "      fill: #FFFFFF;\n",
              "    }\n",
              "  </style>\n",
              "\n",
              "      <script>\n",
              "        const buttonEl =\n",
              "          document.querySelector('#df-f17dae03-64ad-4af2-8fcc-c9aeda9fcc66 button.colab-df-convert');\n",
              "        buttonEl.style.display =\n",
              "          google.colab.kernel.accessAllowed ? 'block' : 'none';\n",
              "\n",
              "        async function convertToInteractive(key) {\n",
              "          const element = document.querySelector('#df-f17dae03-64ad-4af2-8fcc-c9aeda9fcc66');\n",
              "          const dataTable =\n",
              "            await google.colab.kernel.invokeFunction('convertToInteractive',\n",
              "                                                     [key], {});\n",
              "          if (!dataTable) return;\n",
              "\n",
              "          const docLinkHtml = 'Like what you see? Visit the ' +\n",
              "            '<a target=\"_blank\" href=https://colab.research.google.com/notebooks/data_table.ipynb>data table notebook</a>'\n",
              "            + ' to learn more about interactive tables.';\n",
              "          element.innerHTML = '';\n",
              "          dataTable['output_type'] = 'display_data';\n",
              "          await google.colab.output.renderOutput(dataTable, element);\n",
              "          const docLink = document.createElement('div');\n",
              "          docLink.innerHTML = docLinkHtml;\n",
              "          element.appendChild(docLink);\n",
              "        }\n",
              "      </script>\n",
              "    </div>\n",
              "  </div>\n",
              "  "
            ]
          },
          "metadata": {},
          "execution_count": 5
        }
      ]
    },
    {
      "cell_type": "code",
      "source": [
        "text = df[\"content\"][0]"
      ],
      "metadata": {
        "colab": {
          "base_uri": "https://localhost:8080/",
          "height": 139
        },
        "id": "nJfiYWCk1iZb",
        "outputId": "f782b19d-8324-4850-d014-83acf0ab6699"
      },
      "execution_count": 6,
      "outputs": [
        {
          "output_type": "execute_result",
          "data": {
            "text/plain": [
              "'After reaching his hotel in the city, RM revealed that his stay would be for four days and added that he would step out for dinner. As he sat at a roadside open-air restaurant, RM feasted on beer, burgers and fries. He said, \"I\\'m starving right now. I\\'m out to grab some food. It\\'s much quieter than I expected and feels like a rural town. I like the familiar atmosphere.\" RM attended Art Basel and explained on camera the details of the art fair. He also gave a glimpse as he had noodles and beer which was followed by soup noodles and wrap. Showing the pattern of a ping pong table, RM said, \"The table looks like our (BTS) symbol.\" He also spoke about the art pieces as he viewed them. After that, RM took a tram to visit the Foundation Beyeler, a museum. He later took a walk through the city. On his third day, RM visited the Kunstmuseum Basel, the Vitra Design Museum and the gallery. As he walked around, RM showed a chair to his fans and said, \"I have breaking news for you guys. Coldplay\\'s Chris Martin made a chair and it\\'s displayed in the Vitra Design Museum. If you see this Chris, give me a call. You\\'re amazing.\" RM next visited Lucerne and hiked to Mount Rigi. Recalling his previous visit to Lucerne, RM added, \"I remember the day of crossing that bridge and buying souvenirs.\" He was also reminded of Bon Voyage, a reality show featuring BTS members RM, Jin, Suga, J-Hope, Jimin, V and Jungkook. Speaking to the camera, RM said, \"I rode the SSB train to Lucerne, rode a boat, rode the mountain train, walked down the track road, rode the cable cars, and now I\\'m on a boat planning to go ride the SSB again.\" RM\\'s travel in Switzerland ended with a visit to the Museum Tinguely. Next, RM flew to Paris to attend the Pinault Collection and to visit Musee d\\'Orsay. He then went to Centre Georges-Pompidou and Orsay Museum. RM\\'s vlog ended with him enjoying a Korean meal and then heading back to Seoul.'"
            ],
            "application/vnd.google.colaboratory.intrinsic+json": {
              "type": "string"
            }
          },
          "metadata": {},
          "execution_count": 6
        }
      ]
    },
    {
      "cell_type": "code",
      "source": [
        "# 1 Tokenizing the sentences\n",
        "sents = sent_tokenize(text)\n",
        "total_docs = len(sents)\n",
        "print(sents)"
      ],
      "metadata": {
        "colab": {
          "base_uri": "https://localhost:8080/"
        },
        "id": "yGDmIZJy1l7t",
        "outputId": "4de28a01-e064-498b-8ff8-c1b4a50d0dd6"
      },
      "execution_count": 9,
      "outputs": [
        {
          "output_type": "stream",
          "name": "stdout",
          "text": [
            "['After reaching his hotel in the city, RM revealed that his stay would be for four days and added that he would step out for dinner.', 'As he sat at a roadside open-air restaurant, RM feasted on beer, burgers and fries.', 'He said, \"I\\'m starving right now.', \"I'm out to grab some food.\", \"It's much quieter than I expected and feels like a rural town.\", 'I like the familiar atmosphere.\"', 'RM attended Art Basel and explained on camera the details of the art fair.', 'He also gave a glimpse as he had noodles and beer which was followed by soup noodles and wrap.', 'Showing the pattern of a ping pong table, RM said, \"The table looks like our (BTS) symbol.\"', 'He also spoke about the art pieces as he viewed them.', 'After that, RM took a tram to visit the Foundation Beyeler, a museum.', 'He later took a walk through the city.', 'On his third day, RM visited the Kunstmuseum Basel, the Vitra Design Museum and the gallery.', 'As he walked around, RM showed a chair to his fans and said, \"I have breaking news for you guys.', \"Coldplay's Chris Martin made a chair and it's displayed in the Vitra Design Museum.\", 'If you see this Chris, give me a call.', 'You\\'re amazing.\"', 'RM next visited Lucerne and hiked to Mount Rigi.', 'Recalling his previous visit to Lucerne, RM added, \"I remember the day of crossing that bridge and buying souvenirs.\"', 'He was also reminded of Bon Voyage, a reality show featuring BTS members RM, Jin, Suga, J-Hope, Jimin, V and Jungkook.', 'Speaking to the camera, RM said, \"I rode the SSB train to Lucerne, rode a boat, rode the mountain train, walked down the track road, rode the cable cars, and now I\\'m on a boat planning to go ride the SSB again.\"', \"RM's travel in Switzerland ended with a visit to the Museum Tinguely.\", \"Next, RM flew to Paris to attend the Pinault Collection and to visit Musee d'Orsay.\", 'He then went to Centre Georges-Pompidou and Orsay Museum.', \"RM's vlog ended with him enjoying a Korean meal and then heading back to Seoul.\"]\n"
          ]
        }
      ]
    },
    {
      "cell_type": "code",
      "source": [
        "def Create_frequency_matrix(sentences):\n",
        "    frequency_matrix = {}\n",
        "    stopWords = set(stopwords.words(\"english\"))\n",
        "    ps = PorterStemmer()\n",
        "\n",
        "    for sent in sentences:\n",
        "        freq_table = {}\n",
        "        words = word_tokenize(sent)\n",
        "        for word in words:\n",
        "            word = word.lower()\n",
        "            word = ps.stem(word)\n",
        "            if word in stopWords:\n",
        "                continue\n",
        "\n",
        "            if word in freq_table:\n",
        "                freq_table[word] += 1\n",
        "            else:\n",
        "                freq_table[word] = 1\n",
        "\n",
        "        frequency_matrix[sent[:15]] = freq_table\n",
        "\n",
        "    return frequency_matrix"
      ],
      "metadata": {
        "id": "GCC_AIBs2yd0"
      },
      "execution_count": 10,
      "outputs": []
    },
    {
      "cell_type": "code",
      "source": [
        "# 2 Create the Frequency matrix of the words in each sentence.\n",
        "freq_matrix = Create_frequency_matrix(sents)\n",
        "print(freq_matrix)"
      ],
      "metadata": {
        "colab": {
          "base_uri": "https://localhost:8080/"
        },
        "id": "Y0SVO0ab2_bv",
        "outputId": "9cbc2599-ecee-4230-b298-733b256a4f7c"
      },
      "execution_count": 11,
      "outputs": [
        {
          "output_type": "stream",
          "name": "stdout",
          "text": [
            "{'After reaching ': {'reach': 1, 'hi': 2, 'hotel': 1, 'citi': 1, ',': 1, 'rm': 1, 'reveal': 1, 'stay': 1, 'would': 2, 'four': 1, 'day': 1, 'ad': 1, 'step': 1, 'dinner': 1, '.': 1}, 'As he sat at a ': {'sat': 1, 'roadsid': 1, 'open-air': 1, 'restaur': 1, ',': 2, 'rm': 1, 'feast': 1, 'beer': 1, 'burger': 1, 'fri': 1, '.': 1}, 'He said, \"I\\'m s': {'said': 1, ',': 1, '``': 1, \"'m\": 1, 'starv': 1, 'right': 1, '.': 1}, \"I'm out to grab\": {\"'m\": 1, 'grab': 1, 'food': 1, '.': 1}, \"It's much quiet\": {\"'s\": 1, 'much': 1, 'quieter': 1, 'expect': 1, 'feel': 1, 'like': 1, 'rural': 1, 'town': 1, '.': 1}, 'I like the fami': {'like': 1, 'familiar': 1, 'atmospher': 1, '.': 1, \"''\": 1}, 'RM attended Art': {'rm': 1, 'attend': 1, 'art': 2, 'basel': 1, 'explain': 1, 'camera': 1, 'detail': 1, 'fair': 1, '.': 1}, 'He also gave a ': {'also': 1, 'gave': 1, 'glimps': 1, 'noodl': 2, 'beer': 1, 'wa': 1, 'follow': 1, 'soup': 1, 'wrap': 1, '.': 1}, 'Showing the pat': {'show': 1, 'pattern': 1, 'ping': 1, 'pong': 1, 'tabl': 2, ',': 2, 'rm': 1, 'said': 1, '``': 1, 'look': 1, 'like': 1, '(': 1, 'bt': 1, ')': 1, 'symbol': 1, '.': 1, \"''\": 1}, 'He also spoke a': {'also': 1, 'spoke': 1, 'art': 1, 'piec': 1, 'view': 1, '.': 1}, 'After that, RM ': {',': 2, 'rm': 1, 'took': 1, 'tram': 1, 'visit': 1, 'foundat': 1, 'beyel': 1, 'museum': 1, '.': 1}, 'He later took a': {'later': 1, 'took': 1, 'walk': 1, 'citi': 1, '.': 1}, 'On his third da': {'hi': 1, 'third': 1, 'day': 1, ',': 2, 'rm': 1, 'visit': 1, 'kunstmuseum': 1, 'basel': 1, 'vitra': 1, 'design': 1, 'museum': 1, 'galleri': 1, '.': 1}, 'As he walked ar': {'walk': 1, 'around': 1, ',': 2, 'rm': 1, 'show': 1, 'chair': 1, 'hi': 1, 'fan': 1, 'said': 1, '``': 1, 'break': 1, 'news': 1, 'guy': 1, '.': 1}, \"Coldplay's Chri\": {'coldplay': 1, \"'s\": 2, 'chri': 1, 'martin': 1, 'made': 1, 'chair': 1, 'display': 1, 'vitra': 1, 'design': 1, 'museum': 1, '.': 1}, 'If you see this': {'see': 1, 'thi': 1, 'chri': 1, ',': 1, 'give': 1, 'call': 1, '.': 1}, \"You're amazing.\": {\"'re\": 1, 'amaz': 1, '.': 1, \"''\": 1}, 'RM next visited': {'rm': 1, 'next': 1, 'visit': 1, 'lucern': 1, 'hike': 1, 'mount': 1, 'rigi': 1, '.': 1}, 'Recalling his p': {'recal': 1, 'hi': 1, 'previou': 1, 'visit': 1, 'lucern': 1, ',': 2, 'rm': 1, 'ad': 1, '``': 1, 'rememb': 1, 'day': 1, 'cross': 1, 'bridg': 1, 'buy': 1, 'souvenir': 1, '.': 1, \"''\": 1}, 'He was also rem': {'wa': 1, 'also': 1, 'remind': 1, 'bon': 1, 'voyag': 1, ',': 6, 'realiti': 1, 'show': 1, 'featur': 1, 'bt': 1, 'member': 1, 'rm': 1, 'jin': 1, 'suga': 1, 'j-hope': 1, 'jimin': 1, 'v': 1, 'jungkook': 1, '.': 1}, 'Speaking to the': {'speak': 1, 'camera': 1, ',': 7, 'rm': 1, 'said': 1, '``': 1, 'rode': 4, 'ssb': 2, 'train': 2, 'lucern': 1, 'boat': 2, 'mountain': 1, 'walk': 1, 'track': 1, 'road': 1, 'cabl': 1, 'car': 1, \"'m\": 1, 'plan': 1, 'go': 1, 'ride': 1, '.': 1, \"''\": 1}, \"RM's travel in \": {'rm': 1, \"'s\": 1, 'travel': 1, 'switzerland': 1, 'end': 1, 'visit': 1, 'museum': 1, 'tingu': 1, '.': 1}, 'Next, RM flew t': {'next': 1, ',': 1, 'rm': 1, 'flew': 1, 'pari': 1, 'attend': 1, 'pinault': 1, 'collect': 1, 'visit': 1, 'muse': 1, \"d'orsay\": 1, '.': 1}, 'He then went to': {'went': 1, 'centr': 1, 'georges-pompid': 1, 'orsay': 1, 'museum': 1, '.': 1}, \"RM's vlog ended\": {'rm': 1, \"'s\": 1, 'vlog': 1, 'end': 1, 'enjoy': 1, 'korean': 1, 'meal': 1, 'head': 1, 'back': 1, 'seoul': 1, '.': 1}}\n"
          ]
        }
      ]
    },
    {
      "cell_type": "code",
      "source": [
        "def Create_tf_matrix(freq_matrix):\n",
        "    tf_matrix = {}\n",
        "\n",
        "    for sent, f_table in freq_matrix.items():\n",
        "        tf_table = {}\n",
        "\n",
        "        count_words_in_sentence = len(f_table)\n",
        "        for word, count in f_table.items():\n",
        "            tf_table[word] = count / count_words_in_sentence\n",
        "\n",
        "        tf_matrix[sent] = tf_table\n",
        "\n",
        "    return tf_matrix"
      ],
      "metadata": {
        "id": "6PTrOTrW-UK5"
      },
      "execution_count": 12,
      "outputs": []
    },
    {
      "cell_type": "code",
      "source": [
        "# 3 Calculate TermFrequency and generate a matrix\n",
        "tf_matrix = Create_tf_matrix(freq_matrix)\n",
        "print(tf_matrix)"
      ],
      "metadata": {
        "colab": {
          "base_uri": "https://localhost:8080/"
        },
        "id": "TruipqJp-mYp",
        "outputId": "e10365bc-8216-4b3f-c9cc-2ff9542bd49c"
      },
      "execution_count": 13,
      "outputs": [
        {
          "output_type": "stream",
          "name": "stdout",
          "text": [
            "{'After reaching ': {'reach': 0.06666666666666667, 'hi': 0.13333333333333333, 'hotel': 0.06666666666666667, 'citi': 0.06666666666666667, ',': 0.06666666666666667, 'rm': 0.06666666666666667, 'reveal': 0.06666666666666667, 'stay': 0.06666666666666667, 'would': 0.13333333333333333, 'four': 0.06666666666666667, 'day': 0.06666666666666667, 'ad': 0.06666666666666667, 'step': 0.06666666666666667, 'dinner': 0.06666666666666667, '.': 0.06666666666666667}, 'As he sat at a ': {'sat': 0.09090909090909091, 'roadsid': 0.09090909090909091, 'open-air': 0.09090909090909091, 'restaur': 0.09090909090909091, ',': 0.18181818181818182, 'rm': 0.09090909090909091, 'feast': 0.09090909090909091, 'beer': 0.09090909090909091, 'burger': 0.09090909090909091, 'fri': 0.09090909090909091, '.': 0.09090909090909091}, 'He said, \"I\\'m s': {'said': 0.14285714285714285, ',': 0.14285714285714285, '``': 0.14285714285714285, \"'m\": 0.14285714285714285, 'starv': 0.14285714285714285, 'right': 0.14285714285714285, '.': 0.14285714285714285}, \"I'm out to grab\": {\"'m\": 0.25, 'grab': 0.25, 'food': 0.25, '.': 0.25}, \"It's much quiet\": {\"'s\": 0.1111111111111111, 'much': 0.1111111111111111, 'quieter': 0.1111111111111111, 'expect': 0.1111111111111111, 'feel': 0.1111111111111111, 'like': 0.1111111111111111, 'rural': 0.1111111111111111, 'town': 0.1111111111111111, '.': 0.1111111111111111}, 'I like the fami': {'like': 0.2, 'familiar': 0.2, 'atmospher': 0.2, '.': 0.2, \"''\": 0.2}, 'RM attended Art': {'rm': 0.1111111111111111, 'attend': 0.1111111111111111, 'art': 0.2222222222222222, 'basel': 0.1111111111111111, 'explain': 0.1111111111111111, 'camera': 0.1111111111111111, 'detail': 0.1111111111111111, 'fair': 0.1111111111111111, '.': 0.1111111111111111}, 'He also gave a ': {'also': 0.1, 'gave': 0.1, 'glimps': 0.1, 'noodl': 0.2, 'beer': 0.1, 'wa': 0.1, 'follow': 0.1, 'soup': 0.1, 'wrap': 0.1, '.': 0.1}, 'Showing the pat': {'show': 0.058823529411764705, 'pattern': 0.058823529411764705, 'ping': 0.058823529411764705, 'pong': 0.058823529411764705, 'tabl': 0.11764705882352941, ',': 0.11764705882352941, 'rm': 0.058823529411764705, 'said': 0.058823529411764705, '``': 0.058823529411764705, 'look': 0.058823529411764705, 'like': 0.058823529411764705, '(': 0.058823529411764705, 'bt': 0.058823529411764705, ')': 0.058823529411764705, 'symbol': 0.058823529411764705, '.': 0.058823529411764705, \"''\": 0.058823529411764705}, 'He also spoke a': {'also': 0.16666666666666666, 'spoke': 0.16666666666666666, 'art': 0.16666666666666666, 'piec': 0.16666666666666666, 'view': 0.16666666666666666, '.': 0.16666666666666666}, 'After that, RM ': {',': 0.2222222222222222, 'rm': 0.1111111111111111, 'took': 0.1111111111111111, 'tram': 0.1111111111111111, 'visit': 0.1111111111111111, 'foundat': 0.1111111111111111, 'beyel': 0.1111111111111111, 'museum': 0.1111111111111111, '.': 0.1111111111111111}, 'He later took a': {'later': 0.2, 'took': 0.2, 'walk': 0.2, 'citi': 0.2, '.': 0.2}, 'On his third da': {'hi': 0.07692307692307693, 'third': 0.07692307692307693, 'day': 0.07692307692307693, ',': 0.15384615384615385, 'rm': 0.07692307692307693, 'visit': 0.07692307692307693, 'kunstmuseum': 0.07692307692307693, 'basel': 0.07692307692307693, 'vitra': 0.07692307692307693, 'design': 0.07692307692307693, 'museum': 0.07692307692307693, 'galleri': 0.07692307692307693, '.': 0.07692307692307693}, 'As he walked ar': {'walk': 0.07142857142857142, 'around': 0.07142857142857142, ',': 0.14285714285714285, 'rm': 0.07142857142857142, 'show': 0.07142857142857142, 'chair': 0.07142857142857142, 'hi': 0.07142857142857142, 'fan': 0.07142857142857142, 'said': 0.07142857142857142, '``': 0.07142857142857142, 'break': 0.07142857142857142, 'news': 0.07142857142857142, 'guy': 0.07142857142857142, '.': 0.07142857142857142}, \"Coldplay's Chri\": {'coldplay': 0.09090909090909091, \"'s\": 0.18181818181818182, 'chri': 0.09090909090909091, 'martin': 0.09090909090909091, 'made': 0.09090909090909091, 'chair': 0.09090909090909091, 'display': 0.09090909090909091, 'vitra': 0.09090909090909091, 'design': 0.09090909090909091, 'museum': 0.09090909090909091, '.': 0.09090909090909091}, 'If you see this': {'see': 0.14285714285714285, 'thi': 0.14285714285714285, 'chri': 0.14285714285714285, ',': 0.14285714285714285, 'give': 0.14285714285714285, 'call': 0.14285714285714285, '.': 0.14285714285714285}, \"You're amazing.\": {\"'re\": 0.25, 'amaz': 0.25, '.': 0.25, \"''\": 0.25}, 'RM next visited': {'rm': 0.125, 'next': 0.125, 'visit': 0.125, 'lucern': 0.125, 'hike': 0.125, 'mount': 0.125, 'rigi': 0.125, '.': 0.125}, 'Recalling his p': {'recal': 0.058823529411764705, 'hi': 0.058823529411764705, 'previou': 0.058823529411764705, 'visit': 0.058823529411764705, 'lucern': 0.058823529411764705, ',': 0.11764705882352941, 'rm': 0.058823529411764705, 'ad': 0.058823529411764705, '``': 0.058823529411764705, 'rememb': 0.058823529411764705, 'day': 0.058823529411764705, 'cross': 0.058823529411764705, 'bridg': 0.058823529411764705, 'buy': 0.058823529411764705, 'souvenir': 0.058823529411764705, '.': 0.058823529411764705, \"''\": 0.058823529411764705}, 'He was also rem': {'wa': 0.05263157894736842, 'also': 0.05263157894736842, 'remind': 0.05263157894736842, 'bon': 0.05263157894736842, 'voyag': 0.05263157894736842, ',': 0.3157894736842105, 'realiti': 0.05263157894736842, 'show': 0.05263157894736842, 'featur': 0.05263157894736842, 'bt': 0.05263157894736842, 'member': 0.05263157894736842, 'rm': 0.05263157894736842, 'jin': 0.05263157894736842, 'suga': 0.05263157894736842, 'j-hope': 0.05263157894736842, 'jimin': 0.05263157894736842, 'v': 0.05263157894736842, 'jungkook': 0.05263157894736842, '.': 0.05263157894736842}, 'Speaking to the': {'speak': 0.043478260869565216, 'camera': 0.043478260869565216, ',': 0.30434782608695654, 'rm': 0.043478260869565216, 'said': 0.043478260869565216, '``': 0.043478260869565216, 'rode': 0.17391304347826086, 'ssb': 0.08695652173913043, 'train': 0.08695652173913043, 'lucern': 0.043478260869565216, 'boat': 0.08695652173913043, 'mountain': 0.043478260869565216, 'walk': 0.043478260869565216, 'track': 0.043478260869565216, 'road': 0.043478260869565216, 'cabl': 0.043478260869565216, 'car': 0.043478260869565216, \"'m\": 0.043478260869565216, 'plan': 0.043478260869565216, 'go': 0.043478260869565216, 'ride': 0.043478260869565216, '.': 0.043478260869565216, \"''\": 0.043478260869565216}, \"RM's travel in \": {'rm': 0.1111111111111111, \"'s\": 0.1111111111111111, 'travel': 0.1111111111111111, 'switzerland': 0.1111111111111111, 'end': 0.1111111111111111, 'visit': 0.1111111111111111, 'museum': 0.1111111111111111, 'tingu': 0.1111111111111111, '.': 0.1111111111111111}, 'Next, RM flew t': {'next': 0.08333333333333333, ',': 0.08333333333333333, 'rm': 0.08333333333333333, 'flew': 0.08333333333333333, 'pari': 0.08333333333333333, 'attend': 0.08333333333333333, 'pinault': 0.08333333333333333, 'collect': 0.08333333333333333, 'visit': 0.08333333333333333, 'muse': 0.08333333333333333, \"d'orsay\": 0.08333333333333333, '.': 0.08333333333333333}, 'He then went to': {'went': 0.16666666666666666, 'centr': 0.16666666666666666, 'georges-pompid': 0.16666666666666666, 'orsay': 0.16666666666666666, 'museum': 0.16666666666666666, '.': 0.16666666666666666}, \"RM's vlog ended\": {'rm': 0.09090909090909091, \"'s\": 0.09090909090909091, 'vlog': 0.09090909090909091, 'end': 0.09090909090909091, 'enjoy': 0.09090909090909091, 'korean': 0.09090909090909091, 'meal': 0.09090909090909091, 'head': 0.09090909090909091, 'back': 0.09090909090909091, 'seoul': 0.09090909090909091, '.': 0.09090909090909091}}\n"
          ]
        }
      ]
    },
    {
      "cell_type": "code",
      "source": [
        "def Create_documents_per_words(freq_matrix):\n",
        "    word_per_doc_table = {}\n",
        "\n",
        "    for sent, f_table in freq_matrix.items():\n",
        "        for word, count in f_table.items():\n",
        "            if word in word_per_doc_table:\n",
        "                word_per_doc_table[word] += 1\n",
        "            else:\n",
        "                word_per_doc_table[word] = 1\n",
        "\n",
        "    return word_per_doc_table"
      ],
      "metadata": {
        "id": "xhwkLfgT-o7l"
      },
      "execution_count": 14,
      "outputs": []
    },
    {
      "cell_type": "code",
      "source": [
        "# 4 creating table for documents per words\n",
        "count_doc_per_words = Create_documents_per_words(freq_matrix)\n",
        "print(count_doc_per_words)"
      ],
      "metadata": {
        "colab": {
          "base_uri": "https://localhost:8080/"
        },
        "id": "uoMAUgOi-vQU",
        "outputId": "ec7cf0a3-08b0-41f6-ea2e-3195d018a6c3"
      },
      "execution_count": 15,
      "outputs": [
        {
          "output_type": "stream",
          "name": "stdout",
          "text": [
            "{'reach': 1, 'hi': 4, 'hotel': 1, 'citi': 2, ',': 12, 'rm': 14, 'reveal': 1, 'stay': 1, 'would': 1, 'four': 1, 'day': 3, 'ad': 2, 'step': 1, 'dinner': 1, '.': 25, 'sat': 1, 'roadsid': 1, 'open-air': 1, 'restaur': 1, 'feast': 1, 'beer': 2, 'burger': 1, 'fri': 1, 'said': 4, '``': 5, \"'m\": 3, 'starv': 1, 'right': 1, 'grab': 1, 'food': 1, \"'s\": 4, 'much': 1, 'quieter': 1, 'expect': 1, 'feel': 1, 'like': 3, 'rural': 1, 'town': 1, 'familiar': 1, 'atmospher': 1, \"''\": 5, 'attend': 2, 'art': 2, 'basel': 2, 'explain': 1, 'camera': 2, 'detail': 1, 'fair': 1, 'also': 3, 'gave': 1, 'glimps': 1, 'noodl': 1, 'wa': 2, 'follow': 1, 'soup': 1, 'wrap': 1, 'show': 3, 'pattern': 1, 'ping': 1, 'pong': 1, 'tabl': 1, 'look': 1, '(': 1, 'bt': 2, ')': 1, 'symbol': 1, 'spoke': 1, 'piec': 1, 'view': 1, 'took': 2, 'tram': 1, 'visit': 6, 'foundat': 1, 'beyel': 1, 'museum': 5, 'later': 1, 'walk': 3, 'third': 1, 'kunstmuseum': 1, 'vitra': 2, 'design': 2, 'galleri': 1, 'around': 1, 'chair': 2, 'fan': 1, 'break': 1, 'news': 1, 'guy': 1, 'coldplay': 1, 'chri': 2, 'martin': 1, 'made': 1, 'display': 1, 'see': 1, 'thi': 1, 'give': 1, 'call': 1, \"'re\": 1, 'amaz': 1, 'next': 2, 'lucern': 3, 'hike': 1, 'mount': 1, 'rigi': 1, 'recal': 1, 'previou': 1, 'rememb': 1, 'cross': 1, 'bridg': 1, 'buy': 1, 'souvenir': 1, 'remind': 1, 'bon': 1, 'voyag': 1, 'realiti': 1, 'featur': 1, 'member': 1, 'jin': 1, 'suga': 1, 'j-hope': 1, 'jimin': 1, 'v': 1, 'jungkook': 1, 'speak': 1, 'rode': 1, 'ssb': 1, 'train': 1, 'boat': 1, 'mountain': 1, 'track': 1, 'road': 1, 'cabl': 1, 'car': 1, 'plan': 1, 'go': 1, 'ride': 1, 'travel': 1, 'switzerland': 1, 'end': 2, 'tingu': 1, 'flew': 1, 'pari': 1, 'pinault': 1, 'collect': 1, 'muse': 1, \"d'orsay\": 1, 'went': 1, 'centr': 1, 'georges-pompid': 1, 'orsay': 1, 'vlog': 1, 'enjoy': 1, 'korean': 1, 'meal': 1, 'head': 1, 'back': 1, 'seoul': 1}\n"
          ]
        }
      ]
    },
    {
      "cell_type": "code",
      "source": [
        "def Create_idf_matrix(freq_matrix, count_doc_per_words, total_documents):\n",
        "    idf_matrix = {}\n",
        "\n",
        "    for sent, f_table in freq_matrix.items():\n",
        "        idf_table = {}\n",
        "\n",
        "        for word in f_table.keys():\n",
        "            idf_table[word] = math.log10(total_documents / float(count_doc_per_words[word]))\n",
        "\n",
        "        idf_matrix[sent] = idf_table\n",
        "\n",
        "    return idf_matrix"
      ],
      "metadata": {
        "id": "dqZsGR2G-xtw"
      },
      "execution_count": 16,
      "outputs": []
    },
    {
      "cell_type": "code",
      "source": [
        "# 5 Calculate IDF and generate a matrix\n",
        "idf_matrix = Create_idf_matrix(freq_matrix, count_doc_per_words, total_docs)\n",
        "print(idf_matrix)"
      ],
      "metadata": {
        "colab": {
          "base_uri": "https://localhost:8080/"
        },
        "id": "Ew3NxWVk-2_b",
        "outputId": "da34485e-4710-4047-db67-2faf8b84011e"
      },
      "execution_count": 17,
      "outputs": [
        {
          "output_type": "stream",
          "name": "stdout",
          "text": [
            "{'After reaching ': {'reach': 1.3979400086720377, 'hi': 0.7958800173440752, 'hotel': 1.3979400086720377, 'citi': 1.0969100130080565, ',': 0.31875876262441283, 'rm': 0.2518119729937996, 'reveal': 1.3979400086720377, 'stay': 1.3979400086720377, 'would': 1.3979400086720377, 'four': 1.3979400086720377, 'day': 0.9208187539523752, 'ad': 1.0969100130080565, 'step': 1.3979400086720377, 'dinner': 1.3979400086720377, '.': 0.0}, 'As he sat at a ': {'sat': 1.3979400086720377, 'roadsid': 1.3979400086720377, 'open-air': 1.3979400086720377, 'restaur': 1.3979400086720377, ',': 0.31875876262441283, 'rm': 0.2518119729937996, 'feast': 1.3979400086720377, 'beer': 1.0969100130080565, 'burger': 1.3979400086720377, 'fri': 1.3979400086720377, '.': 0.0}, 'He said, \"I\\'m s': {'said': 0.7958800173440752, ',': 0.31875876262441283, '``': 0.6989700043360189, \"'m\": 0.9208187539523752, 'starv': 1.3979400086720377, 'right': 1.3979400086720377, '.': 0.0}, \"I'm out to grab\": {\"'m\": 0.9208187539523752, 'grab': 1.3979400086720377, 'food': 1.3979400086720377, '.': 0.0}, \"It's much quiet\": {\"'s\": 0.7958800173440752, 'much': 1.3979400086720377, 'quieter': 1.3979400086720377, 'expect': 1.3979400086720377, 'feel': 1.3979400086720377, 'like': 0.9208187539523752, 'rural': 1.3979400086720377, 'town': 1.3979400086720377, '.': 0.0}, 'I like the fami': {'like': 0.9208187539523752, 'familiar': 1.3979400086720377, 'atmospher': 1.3979400086720377, '.': 0.0, \"''\": 0.6989700043360189}, 'RM attended Art': {'rm': 0.2518119729937996, 'attend': 1.0969100130080565, 'art': 1.0969100130080565, 'basel': 1.0969100130080565, 'explain': 1.3979400086720377, 'camera': 1.0969100130080565, 'detail': 1.3979400086720377, 'fair': 1.3979400086720377, '.': 0.0}, 'He also gave a ': {'also': 0.9208187539523752, 'gave': 1.3979400086720377, 'glimps': 1.3979400086720377, 'noodl': 1.3979400086720377, 'beer': 1.0969100130080565, 'wa': 1.0969100130080565, 'follow': 1.3979400086720377, 'soup': 1.3979400086720377, 'wrap': 1.3979400086720377, '.': 0.0}, 'Showing the pat': {'show': 0.9208187539523752, 'pattern': 1.3979400086720377, 'ping': 1.3979400086720377, 'pong': 1.3979400086720377, 'tabl': 1.3979400086720377, ',': 0.31875876262441283, 'rm': 0.2518119729937996, 'said': 0.7958800173440752, '``': 0.6989700043360189, 'look': 1.3979400086720377, 'like': 0.9208187539523752, '(': 1.3979400086720377, 'bt': 1.0969100130080565, ')': 1.3979400086720377, 'symbol': 1.3979400086720377, '.': 0.0, \"''\": 0.6989700043360189}, 'He also spoke a': {'also': 0.9208187539523752, 'spoke': 1.3979400086720377, 'art': 1.0969100130080565, 'piec': 1.3979400086720377, 'view': 1.3979400086720377, '.': 0.0}, 'After that, RM ': {',': 0.31875876262441283, 'rm': 0.2518119729937996, 'took': 1.0969100130080565, 'tram': 1.3979400086720377, 'visit': 0.619788758288394, 'foundat': 1.3979400086720377, 'beyel': 1.3979400086720377, 'museum': 0.6989700043360189, '.': 0.0}, 'He later took a': {'later': 1.3979400086720377, 'took': 1.0969100130080565, 'walk': 0.9208187539523752, 'citi': 1.0969100130080565, '.': 0.0}, 'On his third da': {'hi': 0.7958800173440752, 'third': 1.3979400086720377, 'day': 0.9208187539523752, ',': 0.31875876262441283, 'rm': 0.2518119729937996, 'visit': 0.619788758288394, 'kunstmuseum': 1.3979400086720377, 'basel': 1.0969100130080565, 'vitra': 1.0969100130080565, 'design': 1.0969100130080565, 'museum': 0.6989700043360189, 'galleri': 1.3979400086720377, '.': 0.0}, 'As he walked ar': {'walk': 0.9208187539523752, 'around': 1.3979400086720377, ',': 0.31875876262441283, 'rm': 0.2518119729937996, 'show': 0.9208187539523752, 'chair': 1.0969100130080565, 'hi': 0.7958800173440752, 'fan': 1.3979400086720377, 'said': 0.7958800173440752, '``': 0.6989700043360189, 'break': 1.3979400086720377, 'news': 1.3979400086720377, 'guy': 1.3979400086720377, '.': 0.0}, \"Coldplay's Chri\": {'coldplay': 1.3979400086720377, \"'s\": 0.7958800173440752, 'chri': 1.0969100130080565, 'martin': 1.3979400086720377, 'made': 1.3979400086720377, 'chair': 1.0969100130080565, 'display': 1.3979400086720377, 'vitra': 1.0969100130080565, 'design': 1.0969100130080565, 'museum': 0.6989700043360189, '.': 0.0}, 'If you see this': {'see': 1.3979400086720377, 'thi': 1.3979400086720377, 'chri': 1.0969100130080565, ',': 0.31875876262441283, 'give': 1.3979400086720377, 'call': 1.3979400086720377, '.': 0.0}, \"You're amazing.\": {\"'re\": 1.3979400086720377, 'amaz': 1.3979400086720377, '.': 0.0, \"''\": 0.6989700043360189}, 'RM next visited': {'rm': 0.2518119729937996, 'next': 1.0969100130080565, 'visit': 0.619788758288394, 'lucern': 0.9208187539523752, 'hike': 1.3979400086720377, 'mount': 1.3979400086720377, 'rigi': 1.3979400086720377, '.': 0.0}, 'Recalling his p': {'recal': 1.3979400086720377, 'hi': 0.7958800173440752, 'previou': 1.3979400086720377, 'visit': 0.619788758288394, 'lucern': 0.9208187539523752, ',': 0.31875876262441283, 'rm': 0.2518119729937996, 'ad': 1.0969100130080565, '``': 0.6989700043360189, 'rememb': 1.3979400086720377, 'day': 0.9208187539523752, 'cross': 1.3979400086720377, 'bridg': 1.3979400086720377, 'buy': 1.3979400086720377, 'souvenir': 1.3979400086720377, '.': 0.0, \"''\": 0.6989700043360189}, 'He was also rem': {'wa': 1.0969100130080565, 'also': 0.9208187539523752, 'remind': 1.3979400086720377, 'bon': 1.3979400086720377, 'voyag': 1.3979400086720377, ',': 0.31875876262441283, 'realiti': 1.3979400086720377, 'show': 0.9208187539523752, 'featur': 1.3979400086720377, 'bt': 1.0969100130080565, 'member': 1.3979400086720377, 'rm': 0.2518119729937996, 'jin': 1.3979400086720377, 'suga': 1.3979400086720377, 'j-hope': 1.3979400086720377, 'jimin': 1.3979400086720377, 'v': 1.3979400086720377, 'jungkook': 1.3979400086720377, '.': 0.0}, 'Speaking to the': {'speak': 1.3979400086720377, 'camera': 1.0969100130080565, ',': 0.31875876262441283, 'rm': 0.2518119729937996, 'said': 0.7958800173440752, '``': 0.6989700043360189, 'rode': 1.3979400086720377, 'ssb': 1.3979400086720377, 'train': 1.3979400086720377, 'lucern': 0.9208187539523752, 'boat': 1.3979400086720377, 'mountain': 1.3979400086720377, 'walk': 0.9208187539523752, 'track': 1.3979400086720377, 'road': 1.3979400086720377, 'cabl': 1.3979400086720377, 'car': 1.3979400086720377, \"'m\": 0.9208187539523752, 'plan': 1.3979400086720377, 'go': 1.3979400086720377, 'ride': 1.3979400086720377, '.': 0.0, \"''\": 0.6989700043360189}, \"RM's travel in \": {'rm': 0.2518119729937996, \"'s\": 0.7958800173440752, 'travel': 1.3979400086720377, 'switzerland': 1.3979400086720377, 'end': 1.0969100130080565, 'visit': 0.619788758288394, 'museum': 0.6989700043360189, 'tingu': 1.3979400086720377, '.': 0.0}, 'Next, RM flew t': {'next': 1.0969100130080565, ',': 0.31875876262441283, 'rm': 0.2518119729937996, 'flew': 1.3979400086720377, 'pari': 1.3979400086720377, 'attend': 1.0969100130080565, 'pinault': 1.3979400086720377, 'collect': 1.3979400086720377, 'visit': 0.619788758288394, 'muse': 1.3979400086720377, \"d'orsay\": 1.3979400086720377, '.': 0.0}, 'He then went to': {'went': 1.3979400086720377, 'centr': 1.3979400086720377, 'georges-pompid': 1.3979400086720377, 'orsay': 1.3979400086720377, 'museum': 0.6989700043360189, '.': 0.0}, \"RM's vlog ended\": {'rm': 0.2518119729937996, \"'s\": 0.7958800173440752, 'vlog': 1.3979400086720377, 'end': 1.0969100130080565, 'enjoy': 1.3979400086720377, 'korean': 1.3979400086720377, 'meal': 1.3979400086720377, 'head': 1.3979400086720377, 'back': 1.3979400086720377, 'seoul': 1.3979400086720377, '.': 0.0}}\n"
          ]
        }
      ]
    },
    {
      "cell_type": "code",
      "source": [
        "def Create_tf_idf_matrix(tf_matrix, idf_matrix):\n",
        "    tf_idf_matrix = {}\n",
        "\n",
        "    for (sent1, f_table1), (sent2, f_table2) in zip(tf_matrix.items(), idf_matrix.items()):\n",
        "\n",
        "        tf_idf_table = {}\n",
        "\n",
        "        for (word1, value1), (word2, value2) in zip(f_table1.items(),\n",
        "                                                    f_table2.items()):  # here, keys are the same in both the table\n",
        "            tf_idf_table[word1] = float(value1 * value2)\n",
        "\n",
        "        tf_idf_matrix[sent1] = tf_idf_table\n",
        "\n",
        "    return tf_idf_matrix"
      ],
      "metadata": {
        "id": "D8-DQA_Z-458"
      },
      "execution_count": 18,
      "outputs": []
    },
    {
      "cell_type": "code",
      "source": [
        "# 6 Calculate TF-IDF and generate a matrix\n",
        "tf_idf_matrix = Create_tf_idf_matrix(tf_matrix, idf_matrix)\n",
        "print(tf_idf_matrix)"
      ],
      "metadata": {
        "colab": {
          "base_uri": "https://localhost:8080/"
        },
        "id": "I5QcREVc-8-i",
        "outputId": "6711db90-0ebd-46b1-f4ac-4c8f69074180"
      },
      "execution_count": 19,
      "outputs": [
        {
          "output_type": "stream",
          "name": "stdout",
          "text": [
            "{'After reaching ': {'reach': 0.09319600057813585, 'hi': 0.10611733564587669, 'hotel': 0.09319600057813585, 'citi': 0.0731273342005371, ',': 0.021250584174960854, 'rm': 0.016787464866253307, 'reveal': 0.09319600057813585, 'stay': 0.09319600057813585, 'would': 0.1863920011562717, 'four': 0.09319600057813585, 'day': 0.06138791693015835, 'ad': 0.0731273342005371, 'step': 0.09319600057813585, 'dinner': 0.09319600057813585, '.': 0.0}, 'As he sat at a ': {'sat': 0.12708545533382162, 'roadsid': 0.12708545533382162, 'open-air': 0.12708545533382162, 'restaur': 0.12708545533382162, ',': 0.05795613865898415, 'rm': 0.022891997544890873, 'feast': 0.12708545533382162, 'beer': 0.0997190920916415, 'burger': 0.12708545533382162, 'fri': 0.12708545533382162, '.': 0.0}, 'He said, \"I\\'m s': {'said': 0.11369714533486788, ',': 0.04553696608920183, '``': 0.0998528577622884, \"'m\": 0.13154553627891075, 'starv': 0.1997057155245768, 'right': 0.1997057155245768, '.': 0.0}, \"I'm out to grab\": {\"'m\": 0.2302046884880938, 'grab': 0.34948500216800943, 'food': 0.34948500216800943, '.': 0.0}, \"It's much quiet\": {\"'s\": 0.08843111303823058, 'much': 0.1553266676302264, 'quieter': 0.1553266676302264, 'expect': 0.1553266676302264, 'feel': 0.1553266676302264, 'like': 0.10231319488359725, 'rural': 0.1553266676302264, 'town': 0.1553266676302264, '.': 0.0}, 'I like the fami': {'like': 0.18416375079047506, 'familiar': 0.27958800173440757, 'atmospher': 0.27958800173440757, '.': 0.0, \"''\": 0.13979400086720378}, 'RM attended Art': {'rm': 0.027979108110422174, 'attend': 0.1218788903342285, 'art': 0.243757780668457, 'basel': 0.1218788903342285, 'explain': 0.1553266676302264, 'camera': 0.1218788903342285, 'detail': 0.1553266676302264, 'fair': 0.1553266676302264, '.': 0.0}, 'He also gave a ': {'also': 0.09208187539523753, 'gave': 0.13979400086720378, 'glimps': 0.13979400086720378, 'noodl': 0.27958800173440757, 'beer': 0.10969100130080565, 'wa': 0.10969100130080565, 'follow': 0.13979400086720378, 'soup': 0.13979400086720378, 'wrap': 0.13979400086720378, '.': 0.0}, 'Showing the pat': {'show': 0.05416580905602207, 'pattern': 0.08223176521600221, 'ping': 0.08223176521600221, 'pong': 0.08223176521600221, 'tabl': 0.16446353043200443, ',': 0.037501030896989744, 'rm': 0.01481246899963527, 'said': 0.04681647160847501, '``': 0.04111588260800111, 'look': 0.08223176521600221, 'like': 0.05416580905602207, '(': 0.08223176521600221, 'bt': 0.06452411841223861, ')': 0.08223176521600221, 'symbol': 0.08223176521600221, '.': 0.0, \"''\": 0.04111588260800111}, 'He also spoke a': {'also': 0.15346979232539587, 'spoke': 0.2329900014453396, 'art': 0.18281833550134274, 'piec': 0.2329900014453396, 'view': 0.2329900014453396, '.': 0.0}, 'After that, RM ': {',': 0.07083528058320285, 'rm': 0.027979108110422174, 'took': 0.1218788903342285, 'tram': 0.1553266676302264, 'visit': 0.06886541758759933, 'foundat': 0.1553266676302264, 'beyel': 0.1553266676302264, 'museum': 0.0776633338151132, '.': 0.0}, 'He later took a': {'later': 0.27958800173440757, 'took': 0.2193820026016113, 'walk': 0.18416375079047506, 'citi': 0.2193820026016113, '.': 0.0}, 'On his third da': {'hi': 0.061221539795698096, 'third': 0.10753384682092598, 'day': 0.0708322118424904, ',': 0.049039809634525054, 'rm': 0.019370151768753816, 'visit': 0.04767605832987646, 'kunstmuseum': 0.10753384682092598, 'basel': 0.08437769330831205, 'vitra': 0.08437769330831205, 'design': 0.08437769330831205, 'museum': 0.05376692341046299, 'galleri': 0.10753384682092598, '.': 0.0}, 'As he walked ar': {'walk': 0.06577276813945537, 'around': 0.0998528577622884, ',': 0.04553696608920183, 'rm': 0.017986569499557112, 'show': 0.06577276813945537, 'chair': 0.07835071521486117, 'hi': 0.05684857266743394, 'fan': 0.0998528577622884, 'said': 0.05684857266743394, '``': 0.0499264288811442, 'break': 0.0998528577622884, 'news': 0.0998528577622884, 'guy': 0.0998528577622884, '.': 0.0}, \"Coldplay's Chri\": {'coldplay': 0.12708545533382162, \"'s\": 0.14470545769892276, 'chri': 0.0997190920916415, 'martin': 0.12708545533382162, 'made': 0.12708545533382162, 'chair': 0.0997190920916415, 'display': 0.12708545533382162, 'vitra': 0.0997190920916415, 'design': 0.0997190920916415, 'museum': 0.06354272766691081, '.': 0.0}, 'If you see this': {'see': 0.1997057155245768, 'thi': 0.1997057155245768, 'chri': 0.15670143042972234, ',': 0.04553696608920183, 'give': 0.1997057155245768, 'call': 0.1997057155245768, '.': 0.0}, \"You're amazing.\": {\"'re\": 0.34948500216800943, 'amaz': 0.34948500216800943, '.': 0.0, \"''\": 0.17474250108400471}, 'RM next visited': {'rm': 0.03147649662422495, 'next': 0.13711375162600706, 'visit': 0.07747359478604925, 'lucern': 0.1151023442440469, 'hike': 0.17474250108400471, 'mount': 0.17474250108400471, 'rigi': 0.17474250108400471, '.': 0.0}, 'Recalling his p': {'recal': 0.08223176521600221, 'hi': 0.04681647160847501, 'previou': 0.08223176521600221, 'visit': 0.036458162252258466, 'lucern': 0.05416580905602207, ',': 0.037501030896989744, 'rm': 0.01481246899963527, 'ad': 0.06452411841223861, '``': 0.04111588260800111, 'rememb': 0.08223176521600221, 'day': 0.05416580905602207, 'cross': 0.08223176521600221, 'bridg': 0.08223176521600221, 'buy': 0.08223176521600221, 'souvenir': 0.08223176521600221, '.': 0.0, \"''\": 0.04111588260800111}, 'He was also rem': {'wa': 0.05773210594779244, 'also': 0.04846414494486185, 'remind': 0.07357578993010724, 'bon': 0.07357578993010724, 'voyag': 0.07357578993010724, ',': 0.10066066188139351, 'realiti': 0.07357578993010724, 'show': 0.04846414494486185, 'featur': 0.07357578993010724, 'bt': 0.05773210594779244, 'member': 0.07357578993010724, 'rm': 0.013253261736515767, 'jin': 0.07357578993010724, 'suga': 0.07357578993010724, 'j-hope': 0.07357578993010724, 'jimin': 0.07357578993010724, 'v': 0.07357578993010724, 'jungkook': 0.07357578993010724, '.': 0.0}, 'Speaking to the': {'speak': 0.06078000037704512, 'camera': 0.047691739696002454, ',': 0.09701353645090825, 'rm': 0.01094834665190433, 'said': 0.03460347901495979, '``': 0.03039000018852256, 'rode': 0.24312000150818047, 'ssb': 0.12156000075409024, 'train': 0.12156000075409024, 'lucern': 0.040035597997929356, 'boat': 0.12156000075409024, 'mountain': 0.06078000037704512, 'walk': 0.040035597997929356, 'track': 0.06078000037704512, 'road': 0.06078000037704512, 'cabl': 0.06078000037704512, 'car': 0.06078000037704512, \"'m\": 0.040035597997929356, 'plan': 0.06078000037704512, 'go': 0.06078000037704512, 'ride': 0.06078000037704512, '.': 0.0, \"''\": 0.03039000018852256}, \"RM's travel in \": {'rm': 0.027979108110422174, \"'s\": 0.08843111303823058, 'travel': 0.1553266676302264, 'switzerland': 0.1553266676302264, 'end': 0.1218788903342285, 'visit': 0.06886541758759933, 'museum': 0.0776633338151132, 'tingu': 0.1553266676302264, '.': 0.0}, 'Next, RM flew t': {'next': 0.09140916775067137, ',': 0.026563230218701068, 'rm': 0.02098433108281663, 'flew': 0.1164950007226698, 'pari': 0.1164950007226698, 'attend': 0.09140916775067137, 'pinault': 0.1164950007226698, 'collect': 0.1164950007226698, 'visit': 0.05164906319069949, 'muse': 0.1164950007226698, \"d'orsay\": 0.1164950007226698, '.': 0.0}, 'He then went to': {'went': 0.2329900014453396, 'centr': 0.2329900014453396, 'georges-pompid': 0.2329900014453396, 'orsay': 0.2329900014453396, 'museum': 0.1164950007226698, '.': 0.0}, \"RM's vlog ended\": {'rm': 0.022891997544890873, \"'s\": 0.07235272884946138, 'vlog': 0.12708545533382162, 'end': 0.0997190920916415, 'enjoy': 0.12708545533382162, 'korean': 0.12708545533382162, 'meal': 0.12708545533382162, 'head': 0.12708545533382162, 'back': 0.12708545533382162, 'seoul': 0.12708545533382162, '.': 0.0}}\n"
          ]
        }
      ]
    },
    {
      "cell_type": "code",
      "source": [
        "def Score_sentences(tf_idf_matrix) -> dict:\n",
        "    \"\"\"\n",
        "    score a sentence by its word's TF\n",
        "    Basic algorithm: adding the TF frequency of every non-stop word in a sentence divided by total no of words in a sentence.\n",
        "    :rtype: dict\n",
        "    \"\"\"\n",
        "\n",
        "    sentenceValue = {}\n",
        "\n",
        "    for sent, f_table in tf_idf_matrix.items():\n",
        "        total_score_per_sentence = 0\n",
        "\n",
        "        count_words_in_sentence = len(f_table)\n",
        "        for word, score in f_table.items():\n",
        "            total_score_per_sentence += score\n",
        "\n",
        "        sentenceValue[sent] = total_score_per_sentence / count_words_in_sentence\n",
        "\n",
        "    return sentenceValue"
      ],
      "metadata": {
        "id": "BwRpTtGi-_Tg"
      },
      "execution_count": 20,
      "outputs": []
    },
    {
      "cell_type": "code",
      "source": [
        "# 7 Important Algorithm: score the sentences\n",
        "sentence_scores = Score_sentences(tf_idf_matrix)\n",
        "print(sentence_scores)"
      ],
      "metadata": {
        "colab": {
          "base_uri": "https://localhost:8080/"
        },
        "id": "u5KuWixO_ELl",
        "outputId": "351784be-6254-40ac-a4cd-c0d8fdde50fe"
      },
      "execution_count": 21,
      "outputs": [
        {
          "output_type": "stream",
          "name": "stdout",
          "text": [
            "{'After reaching ': 0.07937079834810307, 'As he sat at a ': 0.09728776505747891, 'He said, \"I\\'m s': 0.11286341950206036, \"I'm out to grab\": 0.23229367320602817, \"It's much quiet\": 0.12474492374479847, 'I like the fami': 0.1766267510252988, 'RM attended Art': 0.12259484029691597, 'He also gave a ': 0.12900218840672756, 'Showing the pat': 0.06437078589349442, 'He also spoke a': 0.17254302202712624, 'After that, RM ': 0.09257800370236059, 'He later took a': 0.18050315154562108, 'On his third da': 0.06751087039765545, 'As he walked ar': 0.06687911786499891, \"Coldplay's Chri\": 0.10140603409706238, 'If you see this': 0.14300875123103304, \"You're amazing.\": 0.21842812635500589, 'RM next visited': 0.11067421131654279, 'Recalling his p': 0.05684105835350934, 'He was also rem': 0.06364294234550026, 'Speaking to the': 0.06634625666732458, \"RM's travel in \": 0.09453309619736366, 'Next, RM flew t': 0.0817487470274649, 'He then went to': 0.1747425010840047, \"RM's vlog ended\": 0.09859654598388592}\n"
          ]
        }
      ]
    },
    {
      "cell_type": "code",
      "source": [
        "def Find_average_score(sentenceValue) -> int:\n",
        "    \"\"\"\n",
        "    Find the average score from the sentence value dictionary\n",
        "    :rtype: int\n",
        "    \"\"\"\n",
        "    sumValues = 0\n",
        "    for entry in sentenceValue:\n",
        "        sumValues += sentenceValue[entry]\n",
        "\n",
        "    # Average value of a sentence from original summary_text\n",
        "    average = (sumValues / len(sentenceValue))\n",
        "\n",
        "    return average"
      ],
      "metadata": {
        "id": "B0sxX0nk_Gg-"
      },
      "execution_count": 22,
      "outputs": []
    },
    {
      "cell_type": "code",
      "source": [
        "# 8 Find the threshold\n",
        "threshold = Find_average_score(sentence_scores)\n",
        "print(threshold)"
      ],
      "metadata": {
        "colab": {
          "base_uri": "https://localhost:8080/"
        },
        "id": "8w5E7S8M_KAa",
        "outputId": "e3349c97-c1e5-4b6d-827e-c37cf93b9cc0"
      },
      "execution_count": 23,
      "outputs": [
        {
          "output_type": "stream",
          "name": "stdout",
          "text": [
            "0.11716550326709461\n"
          ]
        }
      ]
    },
    {
      "cell_type": "code",
      "source": [
        "def Generate_summary(sentences, sentenceValue, threshold):\n",
        "    sentence_count = 0\n",
        "    summary = ''\n",
        "    removed_lines = ''\n",
        "    for sentence in sentences:\n",
        "        if sentence[:15] in sentenceValue and sentenceValue[sentence[:15]] >= (threshold):\n",
        "            summary += \" \" + sentence\n",
        "            sentence_count += 1\n",
        "        else:\n",
        "          removed_lines+=\" \"+sentence\n",
        "\n",
        "    return [summary,removed_lines]"
      ],
      "metadata": {
        "id": "tu5L2FBg_QGw"
      },
      "execution_count": 32,
      "outputs": []
    },
    {
      "cell_type": "code",
      "source": [
        "# 9 Important Algorithm: Generate the summary\n",
        "[summary,removed_lines]= Generate_summary(sents, sentence_scores, 0.6 * threshold)\n",
        "print(summary)\n",
        "print()\n",
        "print(removed_lines)"
      ],
      "metadata": {
        "colab": {
          "base_uri": "https://localhost:8080/"
        },
        "id": "AivVR8XI_Sh0",
        "outputId": "7a5eabb8-6f01-4987-a6a4-2c17ed8d36a5"
      },
      "execution_count": 34,
      "outputs": [
        {
          "output_type": "stream",
          "name": "stdout",
          "text": [
            " After reaching his hotel in the city, RM revealed that his stay would be for four days and added that he would step out for dinner. As he sat at a roadside open-air restaurant, RM feasted on beer, burgers and fries. He said, \"I'm starving right now. I'm out to grab some food. It's much quieter than I expected and feels like a rural town. I like the familiar atmosphere.\" RM attended Art Basel and explained on camera the details of the art fair. He also gave a glimpse as he had noodles and beer which was followed by soup noodles and wrap. He also spoke about the art pieces as he viewed them. After that, RM took a tram to visit the Foundation Beyeler, a museum. He later took a walk through the city. Coldplay's Chris Martin made a chair and it's displayed in the Vitra Design Museum. If you see this Chris, give me a call. You're amazing.\" RM next visited Lucerne and hiked to Mount Rigi. RM's travel in Switzerland ended with a visit to the Museum Tinguely. Next, RM flew to Paris to attend the Pinault Collection and to visit Musee d'Orsay. He then went to Centre Georges-Pompidou and Orsay Museum. RM's vlog ended with him enjoying a Korean meal and then heading back to Seoul.\n",
            "\n",
            " Showing the pattern of a ping pong table, RM said, \"The table looks like our (BTS) symbol.\" On his third day, RM visited the Kunstmuseum Basel, the Vitra Design Museum and the gallery. As he walked around, RM showed a chair to his fans and said, \"I have breaking news for you guys. Recalling his previous visit to Lucerne, RM added, \"I remember the day of crossing that bridge and buying souvenirs.\" He was also reminded of Bon Voyage, a reality show featuring BTS members RM, Jin, Suga, J-Hope, Jimin, V and Jungkook. Speaking to the camera, RM said, \"I rode the SSB train to Lucerne, rode a boat, rode the mountain train, walked down the track road, rode the cable cars, and now I'm on a boat planning to go ride the SSB again.\"\n"
          ]
        }
      ]
    },
    {
      "cell_type": "code",
      "source": [
        "def Summary(text):\n",
        "  # 1 Tokenizing the sentences\n",
        "  sents = sent_tokenize(text)\n",
        "  total_docs = len(sents)\n",
        "\n",
        "  # 2 Create the Frequency matrix of the words in each sentence.\n",
        "  freq_matrix = Create_frequency_matrix(sents)\n",
        "  \n",
        "  # 3 Calculate TermFrequency and generate a matrix\n",
        "  tf_matrix = Create_tf_matrix(freq_matrix)\n",
        "  \n",
        "  # 4 creating table for documents per words\n",
        "  count_doc_per_words = Create_documents_per_words(freq_matrix)\n",
        "  \n",
        "  # 5 Calculate IDF and generate a matrix\n",
        "  idf_matrix = Create_idf_matrix(freq_matrix, count_doc_per_words, total_docs)\n",
        "\n",
        "  # 6 Calculate TF-IDF and generate a matrix\n",
        "  tf_idf_matrix = Create_tf_idf_matrix(tf_matrix, idf_matrix)\n",
        "\n",
        "  # 7 Important Algorithm: score the sentences\n",
        "  sentence_scores = Score_sentences(tf_idf_matrix)\n",
        "\n",
        "  # 8 Find the threshold\n",
        "  threshold = Find_average_score(sentence_scores)\n",
        "\n",
        "  # 9 Important Algorithm: Generate the summary\n",
        "  [summary,removed_lines]= Generate_summary(sents, sentence_scores, 0.6 * threshold)\n",
        "\n",
        "  return [summary,removed_lines]"
      ],
      "metadata": {
        "id": "CxHaw0LX_U1X"
      },
      "execution_count": 35,
      "outputs": []
    },
    {
      "cell_type": "code",
      "source": [
        "Summary(text)"
      ],
      "metadata": {
        "colab": {
          "base_uri": "https://localhost:8080/"
        },
        "id": "30pI9Z0hK9St",
        "outputId": "a84beea5-48b0-4c01-e5c5-2293f4cf5775"
      },
      "execution_count": 36,
      "outputs": [
        {
          "output_type": "execute_result",
          "data": {
            "text/plain": [
              "[' After reaching his hotel in the city, RM revealed that his stay would be for four days and added that he would step out for dinner. As he sat at a roadside open-air restaurant, RM feasted on beer, burgers and fries. He said, \"I\\'m starving right now. I\\'m out to grab some food. It\\'s much quieter than I expected and feels like a rural town. I like the familiar atmosphere.\" RM attended Art Basel and explained on camera the details of the art fair. He also gave a glimpse as he had noodles and beer which was followed by soup noodles and wrap. He also spoke about the art pieces as he viewed them. After that, RM took a tram to visit the Foundation Beyeler, a museum. He later took a walk through the city. Coldplay\\'s Chris Martin made a chair and it\\'s displayed in the Vitra Design Museum. If you see this Chris, give me a call. You\\'re amazing.\" RM next visited Lucerne and hiked to Mount Rigi. RM\\'s travel in Switzerland ended with a visit to the Museum Tinguely. Next, RM flew to Paris to attend the Pinault Collection and to visit Musee d\\'Orsay. He then went to Centre Georges-Pompidou and Orsay Museum. RM\\'s vlog ended with him enjoying a Korean meal and then heading back to Seoul.',\n",
              " ' Showing the pattern of a ping pong table, RM said, \"The table looks like our (BTS) symbol.\" On his third day, RM visited the Kunstmuseum Basel, the Vitra Design Museum and the gallery. As he walked around, RM showed a chair to his fans and said, \"I have breaking news for you guys. Recalling his previous visit to Lucerne, RM added, \"I remember the day of crossing that bridge and buying souvenirs.\" He was also reminded of Bon Voyage, a reality show featuring BTS members RM, Jin, Suga, J-Hope, Jimin, V and Jungkook. Speaking to the camera, RM said, \"I rode the SSB train to Lucerne, rode a boat, rode the mountain train, walked down the track road, rode the cable cars, and now I\\'m on a boat planning to go ride the SSB again.\"']"
            ]
          },
          "metadata": {},
          "execution_count": 36
        }
      ]
    },
    {
      "cell_type": "code",
      "source": [
        "def Get_tfidf_score(text):\n",
        "  # 1 Tokenizing the sentences\n",
        "  sents = sent_tokenize(text)\n",
        "  total_docs = len(sents)\n",
        "\n",
        "  # 2 Create the Frequency matrix of the words in each sentence.\n",
        "  freq_matrix = Create_frequency_matrix(sents)\n",
        "  \n",
        "  # 3 Calculate TermFrequency and generate a matrix\n",
        "  tf_matrix = Create_tf_matrix(freq_matrix)\n",
        "  \n",
        "  # 4 creating table for documents per words\n",
        "  count_doc_per_words = Create_documents_per_words(freq_matrix)\n",
        "  \n",
        "  # 5 Calculate IDF and generate a matrix\n",
        "  idf_matrix = Create_idf_matrix(freq_matrix, count_doc_per_words, total_docs)\n",
        "\n",
        "  # 6 Calculate TF-IDF and generate a matrix\n",
        "  tf_idf_matrix = Create_tf_idf_matrix(tf_matrix, idf_matrix)\n",
        "\n",
        "  # 7 Important Algorithm: score the sentences\n",
        "  sentence_scores = Score_sentences(tf_idf_matrix)\n",
        "\n",
        "  # 8 Find the threshold\n",
        "  average_score = Find_average_score(sentence_scores)\n",
        "\n",
        "  return average_score"
      ],
      "metadata": {
        "id": "kP-g0AR2LGpM"
      },
      "execution_count": 28,
      "outputs": []
    },
    {
      "cell_type": "code",
      "source": [
        "Get_tfidf_score(Summary(text))"
      ],
      "metadata": {
        "colab": {
          "base_uri": "https://localhost:8080/"
        },
        "id": "sFERaFXXMlvh",
        "outputId": "6155d74a-85bf-4376-cf0f-04dcbdde9dc4"
      },
      "execution_count": 30,
      "outputs": [
        {
          "output_type": "execute_result",
          "data": {
            "text/plain": [
              "0.13091129058816642"
            ]
          },
          "metadata": {},
          "execution_count": 30
        }
      ]
    },
    {
      "cell_type": "code",
      "source": [
        "def Get_summary_with_scores(text):\n",
        "  [summary_text,removed_lines] = Summary(text)\n",
        "  text_score = Get_tfidf_score(text)\n",
        "  summary_text_score = Get_tfidf_score(summary_text)\n",
        "  return [text,summary_text,removed_lines,text_score,summary_text_score]"
      ],
      "metadata": {
        "id": "VOBUVYSgMo-I"
      },
      "execution_count": 37,
      "outputs": []
    },
    {
      "cell_type": "code",
      "source": [
        "Get_summary_with_scores(text)"
      ],
      "metadata": {
        "colab": {
          "base_uri": "https://localhost:8080/"
        },
        "id": "H6v7_mIqN6XE",
        "outputId": "4450938d-8813-44f7-aaf8-64c33fbbca89"
      },
      "execution_count": 38,
      "outputs": [
        {
          "output_type": "execute_result",
          "data": {
            "text/plain": [
              "['After reaching his hotel in the city, RM revealed that his stay would be for four days and added that he would step out for dinner. As he sat at a roadside open-air restaurant, RM feasted on beer, burgers and fries. He said, \"I\\'m starving right now. I\\'m out to grab some food. It\\'s much quieter than I expected and feels like a rural town. I like the familiar atmosphere.\" RM attended Art Basel and explained on camera the details of the art fair. He also gave a glimpse as he had noodles and beer which was followed by soup noodles and wrap. Showing the pattern of a ping pong table, RM said, \"The table looks like our (BTS) symbol.\" He also spoke about the art pieces as he viewed them. After that, RM took a tram to visit the Foundation Beyeler, a museum. He later took a walk through the city. On his third day, RM visited the Kunstmuseum Basel, the Vitra Design Museum and the gallery. As he walked around, RM showed a chair to his fans and said, \"I have breaking news for you guys. Coldplay\\'s Chris Martin made a chair and it\\'s displayed in the Vitra Design Museum. If you see this Chris, give me a call. You\\'re amazing.\" RM next visited Lucerne and hiked to Mount Rigi. Recalling his previous visit to Lucerne, RM added, \"I remember the day of crossing that bridge and buying souvenirs.\" He was also reminded of Bon Voyage, a reality show featuring BTS members RM, Jin, Suga, J-Hope, Jimin, V and Jungkook. Speaking to the camera, RM said, \"I rode the SSB train to Lucerne, rode a boat, rode the mountain train, walked down the track road, rode the cable cars, and now I\\'m on a boat planning to go ride the SSB again.\" RM\\'s travel in Switzerland ended with a visit to the Museum Tinguely. Next, RM flew to Paris to attend the Pinault Collection and to visit Musee d\\'Orsay. He then went to Centre Georges-Pompidou and Orsay Museum. RM\\'s vlog ended with him enjoying a Korean meal and then heading back to Seoul.',\n",
              " ' After reaching his hotel in the city, RM revealed that his stay would be for four days and added that he would step out for dinner. As he sat at a roadside open-air restaurant, RM feasted on beer, burgers and fries. He said, \"I\\'m starving right now. I\\'m out to grab some food. It\\'s much quieter than I expected and feels like a rural town. I like the familiar atmosphere.\" RM attended Art Basel and explained on camera the details of the art fair. He also gave a glimpse as he had noodles and beer which was followed by soup noodles and wrap. He also spoke about the art pieces as he viewed them. After that, RM took a tram to visit the Foundation Beyeler, a museum. He later took a walk through the city. Coldplay\\'s Chris Martin made a chair and it\\'s displayed in the Vitra Design Museum. If you see this Chris, give me a call. You\\'re amazing.\" RM next visited Lucerne and hiked to Mount Rigi. RM\\'s travel in Switzerland ended with a visit to the Museum Tinguely. Next, RM flew to Paris to attend the Pinault Collection and to visit Musee d\\'Orsay. He then went to Centre Georges-Pompidou and Orsay Museum. RM\\'s vlog ended with him enjoying a Korean meal and then heading back to Seoul.',\n",
              " ' Showing the pattern of a ping pong table, RM said, \"The table looks like our (BTS) symbol.\" On his third day, RM visited the Kunstmuseum Basel, the Vitra Design Museum and the gallery. As he walked around, RM showed a chair to his fans and said, \"I have breaking news for you guys. Recalling his previous visit to Lucerne, RM added, \"I remember the day of crossing that bridge and buying souvenirs.\" He was also reminded of Bon Voyage, a reality show featuring BTS members RM, Jin, Suga, J-Hope, Jimin, V and Jungkook. Speaking to the camera, RM said, \"I rode the SSB train to Lucerne, rode a boat, rode the mountain train, walked down the track road, rode the cable cars, and now I\\'m on a boat planning to go ride the SSB again.\"',\n",
              " 0.11716550326709461,\n",
              " 0.13091129058816642]"
            ]
          },
          "metadata": {},
          "execution_count": 38
        }
      ]
    },
    {
      "cell_type": "code",
      "source": [],
      "metadata": {
        "id": "iceaUcr4N-JW"
      },
      "execution_count": null,
      "outputs": []
    }
  ]
}